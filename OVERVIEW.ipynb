{
 "cells": [
  {
   "cell_type": "code",
   "execution_count": null,
   "metadata": {},
   "outputs": [],
   "source": [
    "from IPython.display import HTML\n",
    "HTML('''<script>\n",
    "code_show=true; \n",
    "function code_toggle() {\n",
    " if (code_show){\n",
    " $('div.input').hide();\n",
    " } else {\n",
    " $('div.input').show();\n",
    " }\n",
    " code_show = !code_show\n",
    "} \n",
    "$( document ).ready(code_toggle);\n",
    "</script>\n",
    "The raw code for this Notebook is by default hidden for easier reading.\n",
    "To toggle on/off the raw code, click <a href=\"javascript:code_toggle()\">here</a>.''')"
   ]
  },
  {
   "cell_type": "markdown",
   "metadata": {},
   "source": [
    "## What Is A Jupyter Notebook?\n",
    "In this case, \"notebook\" or \"notebook documents\" denote documents that contain both *code* and *rich text elements*, such as figures, links, equations, ...or **narratives**. Because of the mix of code and narrative, these documents are the ideal place to bring together an analysis description and its results  as they can be (re)executed to (re)perform the data analysis in real time.\n",
    "\n",
    "These documents are produced by the Jupyter Notebook application. The University of Edinburgh's Jupyter Notebbok service is [**Noteable**](https://noteable.edina.ac.uk).\n",
    "\n",
    "\n",
    "For now, you should just know that \"Jupyter\" is a loose acronym meaning Julia, Python, and R. These programming languages were the first target languages of the Jupyter application, but nowadays, the notebook technology also supports many other languages. \n",
    "\n",
    "\n",
    "In summary, the main components of the whole environment are, on the one hand, the notebooks themselves and the application. On the other hand, you also have a notebook kernel and a notebook dashboard.\n",
    "\n",
    "Let's look at these components in more detail."
   ]
  },
  {
   "cell_type": "markdown",
   "metadata": {},
   "source": [
    "## What Is The Jupyter Notebook application?\n",
    "\n",
    "As a server-client application, the Jupyter Notebook application allows you to edit and run your notebooks via a web browser. The application can be executed on a PC without Internet access or it can be installed on a remote server, where you can access it through the Internet. **Noteable** runs in the University cloud and is therefore available from any location using a standard web browser.\n",
    "\n",
    "Its two main components are the *kernels* and a *dashboard*.\n",
    "\n",
    "A **kernel** is a program that runs and introspects the user’s code. The Jupyter Notebook application has a kernel for Python code by default - but there are also kernels available for many other programming languages e.g. R, Matlab, Javascript.\n",
    "\n",
    "The [**dashboard**](https://noteable.edina.ac.uk/user/jreid3/tree/CAHSS#notebooks) of the application not only shows you the notebook documents that you have made and can reopen but can also be used to manage the kernels: you can select which ones are running and shut them down if necessary. "
   ]
  },
  {
   "cell_type": "markdown",
   "metadata": {},
   "source": [
    "## The History of IPython and Jupyter Notebooks\n",
    "\n",
    "**Timeline**\n",
    "\n",
    "**2001** -  Fernando Pérez started developing IPython - a more advanced Python shell.\n",
    "\n",
    "**2005** -  Robert Kern and Fernando Pérez attempted building a notebook system. Unfortunately, the prototype never become fully usable. \n",
    "\n",
    "**2007** -  the IPython team had kept on working nd formulated another attempt at implementing a notebook-type system. \n",
    "\n",
    "**2010 (October)** - there was a prototype of a web notebook.\n",
    "\n",
    "**2011 (summer)** -  this prototype was incorporated and it was released with 0.12 on December 21, 2011.\n",
    "\n",
    "**2013** - the team got awards, such as the Advancement of Free Software for Fernando Pérez and the Jolt Productivity Award, and funding from the Alfred P. Sloan Foundations, among others. \n",
    "\n",
    "**2014** -  *Project Jupyter* started as a spin-off project from IPython. IPython is now the name of the Python backend, which is also known as the kernel. \n",
    "\n",
    "After all this, you might wonder where this idea of notebooks originated or how it came about to the creators.\n",
    "\n",
    "A brief research into the history of these notebooks learns that Fernando Pérez and Robert Kern were working on a notebook just at the same time as the Sage notebook was a work in progress. Since the layout of the Sage notebook was based on the layout of Google notebooks, you can also conclude that also Google used to have a notebook feature around that time. \n",
    "\n",
    "For what concerns the idea of the notebook, it seems that Fernando Pérez, as well as William Stein, one of the creators of the Sage notebook, have confirmed that they were avid users of the Mathematica notebooks and Maple worksheets. The Mathematica notebooks were created as a front end or GUI in 1988 by Theodore Gray. \n",
    "\n",
    "The concept of a notebook, which contains ordinary text and calculation and/or graphics, was definitely not new. \n",
    "For a journalistic canter through the history (and politics) - see [here.](https://www.theatlantic.com/science/archive/2018/04/the-scientific-paper-is-obsolete/556676/) \n",
    "\n",
    "Also, the developers had close contact with one another and this, together with other failed attempts at GUIs for IPython and the use of \"AJAX\" = web applications, which didn't require users to refresh the whole page every time you do something, were two other motivations for the team of William Stein to start developing the Sage notebooks. \n",
    "\n",
    "If you want to know more details, check out the personal accounts of [Fernando Pérez](https://en.wikipedia.org/wiki/Fernando_P%C3%A9rez_(software_developer)) and [William Stein](https://wstein.org/) about the history of their notebooks."
   ]
  },
  {
   "cell_type": "markdown",
   "metadata": {},
   "source": [
    "## A Notebook: \n",
    "When you start a new Notebook you will immediately see the notebook name (here 'DataFrames'), a menu bar, a toolbar and an empty code cell:\n",
    "\n",
    "![Jupyer Notebook](http://community.datacamp.com.s3.amazonaws.com/community/production/ckeditor_assets/pictures/200/content_jupyternotebook3b.gif)"
   ]
  },
  {
   "cell_type": "markdown",
   "metadata": {},
   "source": [
    "You can immediately start with importing the necessary libraries for your code. This is one of the best practices that we will discuss in more detail later on."
   ]
  },
  {
   "cell_type": "markdown",
   "metadata": {},
   "source": [
    "## [TRY RUNNING SOME CODE - THE BASICS](01-Running%20Code.ipynb)"
   ]
  },
  {
   "cell_type": "markdown",
   "metadata": {},
   "source": [
    "  "
   ]
  },
  {
   "cell_type": "code",
   "execution_count": null,
   "metadata": {},
   "outputs": [],
   "source": [
    "import numpy"
   ]
  },
  {
   "cell_type": "markdown",
   "metadata": {},
   "source": [
    "\n",
    "\n",
    "After, you can add, remove or edit the cells according to your needs. And don't forget to insert explanatory text or titles and subtitles to clarify your code i.e. narrative! That's what makes a notebook a notebook in the end and what makes Notebooks so useful - you can litter explanation/ your thinking/ conjecture throughout and intermingle with live code (that is programmming code that can be run immediately, edited and the changes witnessed). \n",
    "\n",
    "\n",
    "![](http://community.datacamp.com.s3.amazonaws.com/community/production/ckeditor_assets/pictures/202/content_jupyternotebook7.gif)"
   ]
  },
  {
   "cell_type": "markdown",
   "metadata": {},
   "source": [
    "## Making Your Jupyter Notebook Magical\n",
    "\n",
    "If you want to get the most out of your notebooks with the IPython kernel, you should consider learning about the so-called **\"magic commands\"**. Also, consider adding even more interactivity to your notebook so that it becomes an interactive dashboard to others should be one of your considerations! \n",
    "\n",
    "**Jupyter kernels support varying magic commands that extend the core language with useful shortcuts.**\n",
    "\n",
    "The Notebook's Built-In Commands\n",
    "\n",
    "There are some predefined ‘magic functions’ that will make your work a lot more interactive.\n",
    "\n",
    "To see which magic commands you have available in your interpreter, you can simply run the following:\n",
    "    "
   ]
  },
  {
   "cell_type": "code",
   "execution_count": null,
   "metadata": {},
   "outputs": [],
   "source": [
    "%lsmagic"
   ]
  },
  {
   "cell_type": "code",
   "execution_count": null,
   "metadata": {},
   "outputs": [],
   "source": [
    "%cat test_text.txt"
   ]
  },
  {
   "cell_type": "markdown",
   "metadata": {},
   "source": [
    "You can get help by:"
   ]
  },
  {
   "cell_type": "code",
   "execution_count": null,
   "metadata": {},
   "outputs": [],
   "source": [
    "%quickref "
   ]
  },
  {
   "cell_type": "markdown",
   "metadata": {},
   "source": [
    "or for a specific magic you can:"
   ]
  },
  {
   "cell_type": "code",
   "execution_count": null,
   "metadata": {},
   "outputs": [],
   "source": [
    "?%magic alias"
   ]
  },
  {
   "cell_type": "code",
   "execution_count": null,
   "metadata": {},
   "outputs": [],
   "source": [
    "%alias"
   ]
  },
  {
   "cell_type": "code",
   "execution_count": null,
   "metadata": {},
   "outputs": [],
   "source": [
    "%ls\n",
    "files = !ls\n",
    "print(files)"
   ]
  },
  {
   "cell_type": "markdown",
   "metadata": {},
   "source": [
    "The magic function system provides a series of functions which allow you to\n",
    "control the behavior of IPython itself, plus a lot of system-type\n",
    "features. There are two kinds of magics, line-oriented and cell-oriented.\n",
    "\n",
    "Line magics are prefixed with the % character and work much like OS\n",
    "command-line calls: they get as an argument the rest of the line, where\n",
    "arguments are passed without parentheses or quotes.  For example, this will\n",
    "time the given statement::\n",
    "\n"
   ]
  },
  {
   "cell_type": "code",
   "execution_count": null,
   "metadata": {},
   "outputs": [],
   "source": [
    " %timeit range(1000)"
   ]
  },
  {
   "cell_type": "markdown",
   "metadata": {},
   "source": [
    "       \n",
    "\n",
    "Cell magics are prefixed with a double %%, and they are functions that get as\n",
    "an argument not only the rest of the line, but also the lines below it in a\n",
    "separate argument.  These magics are called with two arguments: the rest of the\n",
    "call line and the body of the cell, consisting of the lines below the first.\n",
    "\n",
    "Other useful magics include:\n",
    "\n",
    "**%pdb\tDebug**\n",
    "\n",
    "**%prun\tDo a performance run**\n",
    "\n",
    "**%writefile\tSaves the contents of a cell to an external file**\n",
    "\n",
    "**%pycat\tShows the syntax highlighted contents of an external file**\n",
    "\n",
    "**%who\tList all variables of a global scope**\n",
    "\n",
    "**%store\tPass variables between notebooks**\n",
    "\n",
    "**%load\tInsert code from an external script**\n",
    "\n",
    "**%run\tExecute Python code**\n",
    "\n",
    "**%env\tSet environment variables**\n",
    "\n",
    "\n",
    "You can also use magics to **mix languages in your notebook with the IPython kernel without setting up extra kernels**: there is rmagics to run R code, SQL for RDBMS or Relational Database Management System access and cythonmagic for interactive work with cython,... and thats just for starters!"
   ]
  },
  {
   "cell_type": "code",
   "execution_count": null,
   "metadata": {},
   "outputs": [],
   "source": [
    "%pycat test_text.txt"
   ]
  },
  {
   "cell_type": "markdown",
   "metadata": {},
   "source": [
    "## Interactive Notebooks - Widgets\n",
    "\n",
    "**Widgets are eventful python objects that have a representation in the browser, often as a control like a slider, textbox, etc.**\n",
    "\n",
    "\n",
    "You can use widgets to build interactive GUIs for your notebooks.\n",
    "\n",
    "You can also use widgets to synchronize stateful and stateless information between Python and JavaScript\n",
    "\n",
    "The **interact** function (ipywidgets.interact) automatically creates user interface (UI) controls for exploring code and data interactively. It is the easiest way to get started using IPython’s widgets!!\n",
    "\n",
    "(example below is taken from the [IPWidgets Readthedocs](http://ipywidgets.readthedocs.io))"
   ]
  },
  {
   "cell_type": "code",
   "execution_count": null,
   "metadata": {},
   "outputs": [],
   "source": [
    "from ipywidgets import widgets\n",
    "from __future__ import print_function\n",
    "from ipywidgets import interact, interactive, fixed, interact_manual\n",
    "import ipywidgets as widgets"
   ]
  },
  {
   "cell_type": "markdown",
   "metadata": {},
   "source": [
    "At the most basic level, interact autogenerates UI controls for function arguments, and then calls the function with those arguments when you manipulate the controls interactively. To use interact, you need to define a function that you want to explore. Here is a function that prints its only argument x."
   ]
  },
  {
   "cell_type": "code",
   "execution_count": null,
   "metadata": {},
   "outputs": [],
   "source": [
    "def f(x):\n",
    "    return x"
   ]
  },
  {
   "cell_type": "markdown",
   "metadata": {},
   "source": [
    "When you pass this function as the first argument to interact along with an integer keyword argument (x=10), a slider is generated and bound to the function parameter."
   ]
  },
  {
   "cell_type": "code",
   "execution_count": null,
   "metadata": {},
   "outputs": [],
   "source": [
    "interact(f, x=100);"
   ]
  },
  {
   "cell_type": "markdown",
   "metadata": {},
   "source": [
    "When you move the slider, the function is called, which prints the current value of x.\n",
    "\n",
    "If you pass True or False, interact will generate a checkbox:"
   ]
  },
  {
   "cell_type": "code",
   "execution_count": null,
   "metadata": {},
   "outputs": [],
   "source": [
    "interact(f, x=True);"
   ]
  },
  {
   "cell_type": "markdown",
   "metadata": {},
   "source": [
    "If you pass a string, interact will generate a text area."
   ]
  },
  {
   "cell_type": "code",
   "execution_count": null,
   "metadata": {},
   "outputs": [],
   "source": [
    "interact(f, x='Hi there CAHSS folks!');"
   ]
  },
  {
   "cell_type": "markdown",
   "metadata": {},
   "source": [
    "## A Richer Example to show whats possible - image manipulation\n"
   ]
  },
  {
   "cell_type": "code",
   "execution_count": null,
   "metadata": {},
   "outputs": [],
   "source": [
    "from io import BytesIO\n",
    "\n",
    "# Third-party libraries\n",
    "from IPython.display import Image\n",
    "from ipywidgets import interact, interactive, fixed\n",
    "import matplotlib as mpl\n",
    "from skimage import data, filters, io, img_as_float\n",
    "import numpy as np\n",
    "\n",
    "i = img_as_float(data.coffee())\n",
    "i.shape\n",
    "\n",
    "\n",
    "def arr2img(arr):\n",
    "    \"\"\"Display a 2- or 3-d numpy array as an image.\"\"\"\n",
    "    if arr.ndim == 2:\n",
    "        format, cmap = 'png', mpl.cm.gray\n",
    "    elif arr.ndim == 3:\n",
    "        format, cmap = 'jpg', None\n",
    "    else:\n",
    "        raise ValueError(\"Only 2- or 3-d arrays can be displayed as images.\")\n",
    "    # Don't let matplotlib autoscale the color range so we can control overall luminosity\n",
    "    vmax = 255 if arr.dtype == 'uint8' else 1.0\n",
    "    with BytesIO() as buffer:\n",
    "        mpl.image.imsave(buffer, arr, format=format, cmap=cmap, vmin=0, vmax=vmax)\n",
    "        out = buffer.getvalue()\n",
    "    return Image(out)\n",
    "\n",
    "\n",
    "arr2img(i)"
   ]
  },
  {
   "cell_type": "code",
   "execution_count": null,
   "metadata": {},
   "outputs": [],
   "source": [
    "def edit_image(image, sigma=0.1, R=1.0, G=1.0, B=1.0):\n",
    "    new_image = filters.gaussian(image, sigma=sigma, multichannel=True)\n",
    "    new_image[:,:,0] = R*new_image[:,:,0]\n",
    "    new_image[:,:,1] = G*new_image[:,:,1]\n",
    "    new_image[:,:,2] = B*new_image[:,:,2]\n",
    "    return arr2img(new_image)"
   ]
  },
  {
   "cell_type": "code",
   "execution_count": null,
   "metadata": {},
   "outputs": [],
   "source": [
    "edit_image(i, sigma=5, R=0.1)"
   ]
  },
  {
   "cell_type": "markdown",
   "metadata": {},
   "source": [
    "But it's a lot easier to explore what this function does by controlling each parameter interactively and getting immediate visual feedback. IPython's ipywidgets package lets us do that with a minimal amount of code:"
   ]
  },
  {
   "cell_type": "code",
   "execution_count": null,
   "metadata": {},
   "outputs": [],
   "source": [
    "\n",
    "lims = (0.0,1.0,0.01)\n",
    "interact(edit_image, image=fixed(i), sigma=(0.0,10.0,0.1), R=lims, G=lims, B=lims);"
   ]
  },
  {
   "cell_type": "markdown",
   "metadata": {},
   "source": [
    "## Jupyter Notebooks in Practice\n",
    "\n",
    "\n",
    "How should you actually use these notebooks in practice when you're working in a team?\n",
    "\n",
    "The following tips may help.\n",
    "\n",
    "**Tips To Effectively and Efficiently Use Your Jupyter Notebooks**\n",
    "\n",
    "\n",
    "* Try to provide comments and documentation to your code. They might be a great help to others!\n",
    "* Also consider a consistent naming scheme, code grouping, limit your line length, ...  \n",
    "* Don't be afraid to refactor when or if necessary\n",
    "\n",
    "In addition to these general best practices for programming, you could also consider the following tips to make your notebooks the best source for other users to learn:\n",
    "\n",
    "* Don't forget to name your notebook documents!\n",
    "* Try to keep the cells of your notebook simple: don't exceed the width of your cell and make sure that you don't put too many related functions in one cell.  \n",
    "* If possible, import your packages in the first code cell of your notebook, and\n",
    "Display the graphics inline. The magic command %matplotlib inline will definitely come in handy to suppress the output of the function on a final line. Don't forget to add a semicolon to suppress the output and to just give back the plot itself. \n",
    "* Consider hiding some of your code to aid explanation. You can already hide some of the code by using magic commands such as %run to execute a whole Python script as if it was in a notebook cell. However, this might not help you to the extent that you expect. In such cases, you can always check out [this tutorial](http://chris-said.io/2016/02/13/how-to-make-polished-jupyter-presentations-with-optional-code-visibility/) on optional code visibility or consider [toggling](http://blog.nextgenetics.net/?e=102) your notebook's code cells.\n",
    "\n",
    "## Jupyter Notebooks for Data Science : Best Practices\n",
    "\n",
    "\n",
    "* Use two types of notebooks for a data science project, namely, a lab notebook and a deliverable notebook. The difference between the two (besides the obvious that you can infer from the names that are given to the notebooks) is the fact that individuals control the lab notebook, while the deliverable notebook is controlled by the whole data science team, \n",
    "\n",
    "* Use some type of versioning control (Git, Github, ...). Don't forget to commit also the HTML file if your version control system lacks rendering capabilities, and \n",
    "\n",
    "* Use explicit rules on the naming of your documents.  \n",
    "\n",
    "**Learn From The Best Notebooks**\n",
    "\n",
    "This section is meant to give you a short list with some of the best notebooks that are out there so that you can get started on learning from these examples. \n",
    "\n",
    "Notebooks are also used to complement books, such as the Python Data Science Handbook. You can find the notebooks [here](https://github.com/jakevdp/PythonDataScienceHandbook).\n",
    "\n",
    "A report on a Kaggle competition is written down in [this blog](http://danielfrg.com/blog/2013/03/07/kaggle-bulldozers-basic-cleaning/), generated from a notebook.\n",
    "\n",
    "This [matplotlib tutorial](http://nbviewer.jupyter.org/github/jrjohansson/scientific-python-lectures/blob/master/Lecture-4-Matplotlib.ipynb) is a great example of how well a notebook can serve as a means of teaching other people topics such as scientific Python. \n",
    "\n",
    "Lastly, make sure to also check out [The Importance of Preprocessing in Data Science and the Machine Learning Pipeline](https://www.datacamp.com/community/tutorials/the-importance-of-preprocessing-in-data-science-and-the-machine-learning-pipeline-i-centering-scaling-and-k-nearest-neighbours/) tutorial series that was generated from a notebook.\n",
    "\n",
    "Lasty check out this video from our [local Jupyter fan....](https://youtu.be/Os3s1jwLAEI)\n",
    "\n"
   ]
  }
 ],
 "metadata": {
  "kernelspec": {
   "display_name": "Python 3",
   "language": "python",
   "name": "python3"
  },
  "language_info": {
   "codemirror_mode": {
    "name": "ipython",
    "version": 3
   },
   "file_extension": ".py",
   "mimetype": "text/x-python",
   "name": "python",
   "nbconvert_exporter": "python",
   "pygments_lexer": "ipython3",
   "version": "3.6.3"
  }
 },
 "nbformat": 4,
 "nbformat_minor": 2
}
